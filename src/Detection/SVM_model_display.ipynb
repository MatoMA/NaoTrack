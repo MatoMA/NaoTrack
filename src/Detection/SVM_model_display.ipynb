{
 "metadata": {
  "name": "Untitled0"
 }, 
 "nbformat": 2, 
 "worksheets": [
  {
   "cells": [
    {
     "cell_type": "code", 
     "collapsed": true, 
     "input": [
      "dataFile = open('yData', 'r')", 
      "samples = [];", 
      "pans = [];", 
      "tilts = [];", 
      "attrs = [];", 
      "for line in dataFile:", 
      "    temp = line.split()", 
      "    samples.append(float(temp[0]))", 
      "    pan_f = float(temp[1][2:])", 
      "    tilt_f = float(temp[2][2:])", 
      "    pans.append(pan_f)", 
      "    tilts.append(tilt_f)", 
      "    attrs.append([pan_f, tilt_f])", 
      "dataFile.close()"
     ], 
     "language": "python", 
     "outputs": [], 
     "prompt_number": 6
    }, 
    {
     "cell_type": "code", 
     "collapsed": true, 
     "input": [
      "from sklearn.svm import SVR", 
      "#svr_rbf = SVR(kernel='rbf', C=1e3, gamma=1)", 
      "svr_rbf = SVR(kernel='rbf', C=1e5, gamma=1e-4)", 
      "model = svr_rbf.fit(attrs, samples)"
     ], 
     "language": "python", 
     "outputs": [], 
     "prompt_number": 7
    }, 
    {
     "cell_type": "code", 
     "collapsed": false, 
     "input": [
      "samples_pred = model.predict(attrs)", 
      "print samples_pred", 
      "distance = samples - samples_pred", 
      "risk_empiric = sum(abs(samples - samples_pred))/len(samples)", 
      "print 'Distance: '", 
      "print distance", 
      "print 'Empirical Risk: '", 
      "print risk_empiric"
     ], 
     "language": "python", 
     "outputs": [
      {
       "output_type": "stream", 
       "stream": "stdout", 
       "text": [
        "[  7.84035870e-02   1.01855000e-01   7.05454856e-02  -4.16438748e-03", 
        "   3.23927053e-02   7.02225406e-02   9.81496580e-02   1.98244007e+00", 
        "   1.91218121e+00   1.90509121e+00   1.89203349e+00   1.93128746e+00", 
        "   1.90753946e+00   1.97164568e+00   3.92095500e+00   3.90061127e+00", 
        "   3.95108673e+00   4.05192551e+00   4.09788987e+00   4.06924085e+00", 
        "   3.98835575e+00   5.90551965e+00   5.98754299e+00   6.06189033e+00", 
        "   6.07217723e+00   6.10036921e+00   6.09583514e+00   6.05268305e+00", 
        "   8.09362652e+00   8.08152347e+00   8.05861395e+00   7.98483077e+00", 
        "   7.89239383e+00   7.89986519e+00   7.89636154e+00   1.01033314e+01", 
        "   1.00985915e+01   1.00958934e+01   9.89573381e+00   9.93688486e+00", 
        "   1.00344346e+01   1.00006033e+01]", 
        "Distance: ", 
        "[-0.07840359 -0.101855   -0.07054549  0.00416439 -0.03239271 -0.07022254", 
        " -0.09814966  0.01755993  0.08781879  0.09490879  0.10796651  0.06871254", 
        "  0.09246054  0.02835432  0.079045    0.09938873  0.04891327 -0.05192551", 
        " -0.09788987 -0.06924085  0.01164425  0.09448035  0.01245701 -0.06189033", 
        " -0.07217723 -0.10036921 -0.09583514 -0.05268305 -0.09362652 -0.08152347", 
        " -0.05861395  0.01516923  0.10760617  0.10013481  0.10363846 -0.10333137", 
        " -0.09859153 -0.09589336  0.10426619  0.06311514 -0.03443461 -0.00060328]", 
        "Empirical Risk: ", 
        "0.0705238732228"
       ]
      }
     ], 
     "prompt_number": 8
    }, 
    {
     "cell_type": "code", 
     "collapsed": true, 
     "input": [
      "from mpl_toolkits.mplot3d.axes3d import Axes3D", 
      "import matplotlib.pyplot as plt", 
      "import numpy", 
      "from pylab import *", 
      "fig = plt.figure()", 
      "ax = fig.add_subplot(1,1,1, projection='3d')", 
      "Z = samples", 
      "ax.scatter(pans,tilts,Z,c='r')", 
      "fig.hold(True)", 
      "nPoints = 100", 
      "pan_test = linspace(-30,90,nPoints)", 
      "tilt_test = linspace(-80,10,nPoints)", 
      "Z_test = [];", 
      "for pan in pan_test:", 
      "    for tilt in tilt_test:", 
      "        Z_test.append(model.predict([pan,tilt]))", 
      "       ", 
      "X,Y = meshgrid(pan_test,tilt_test)", 
      "Z = numpy.reshape(Z_test,X.shape)", 
      "Z = Z.T", 
      "", 
      "ax.plot_wireframe(X,Y,Z,rstride=4, cstride=4)", 
      "ax.set_xlabel('pan')", 
      "ax.set_ylabel('tilt')", 
      "plt.show()", 
      "fig.hold(False)"
     ], 
     "language": "python", 
     "outputs": [], 
     "prompt_number": 9
    }, 
    {
     "cell_type": "code", 
     "collapsed": true, 
     "input": [], 
     "language": "python", 
     "outputs": []
    }
   ]
  }
 ]
}