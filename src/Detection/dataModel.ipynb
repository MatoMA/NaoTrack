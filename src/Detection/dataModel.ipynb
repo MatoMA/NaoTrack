{
 "metadata": {
  "name": ""
 },
 "nbformat": 3,
 "nbformat_minor": 0,
 "worksheets": [
  {
   "cells": [
    {
     "cell_type": "code",
     "collapsed": false,
     "input": [
      "#Read data\n",
      "dataFile = open('yData', 'r')\n",
      "samples = [];\n",
      "pans = [];\n",
      "tilts = [];\n",
      "attrs = [];\n",
      "for line in dataFile:\n",
      "    temp = line.split()\n",
      "    samples.append(float(temp[0]))\n",
      "    pan_f = float(temp[1][2:])\n",
      "    tilt_f = float(temp[2][2:])\n",
      "    pans.append(pan_f)\n",
      "    tilts.append(tilt_f)\n",
      "    attrs.append([pan_f, tilt_f])\n",
      "dataFile.close()"
     ],
     "language": "python",
     "metadata": {},
     "outputs": [],
     "prompt_number": 5
    },
    {
     "cell_type": "code",
     "collapsed": false,
     "input": [
      "from sklearn.svm import SVR\n",
      "#svr_poly = SVR(kernel='poly', C=0.05, degree=2)\n",
      "#model = svr_poly.fit(attrs, samples)\n",
      "svr_rbf = SVR(kernel='rbf', C=1e10, gamma=1e-4)\n",
      "#svr_rbf = SVR(kernel='rbf', C=1e3, gamma=1)\n",
      "model = svr_rbf.fit(attrs, samples)"
     ],
     "language": "python",
     "metadata": {},
     "outputs": [],
     "prompt_number": 6
    },
    {
     "cell_type": "code",
     "collapsed": false,
     "input": [
      "samples_pred = model.predict(attrs)\n",
      "print samples_pred\n",
      "distance = samples - samples_pred\n",
      "risk_empiric = sum(abs(samples - samples_pred))/len(samples)\n",
      "print 'Distance: ' \n",
      "print distance\n",
      "print 'Empirical Risk: '\n",
      "print risk_empiric"
     ],
     "language": "python",
     "metadata": {},
     "outputs": [
      {
       "output_type": "stream",
       "stream": "stdout",
       "text": [
        "[  2.11594462e-02   1.89803426e+00   3.97382099e+00   5.98378102e+00\n",
        "   7.90004476e+00   9.90083490e+00   1.00905320e+01   8.07874402e+00\n",
        "   6.10122275e+00   4.07213094e+00   1.97232110e+00   1.01308554e-01\n",
        "  -5.36621203e-02   1.96660217e+00   3.94989565e+00   6.00600954e+00\n",
        "   8.05622104e+00   9.89893320e+00   9.90312550e+00   8.10175870e+00\n",
        "   6.03640261e+00   3.91821135e+00   1.89936893e+00   4.01602982e-02\n",
        "  -2.54638111e-03   1.92020963e+00   3.90430442e+00   5.97646374e+00\n",
        "   8.03463827e+00   9.97666443e+00   1.00990874e+01   8.05147852e+00\n",
        "   6.03509873e+00   3.93560441e+00   1.91360892e+00   1.00022455e-01\n",
        "   9.97844587e-02   1.97117252e+00   3.90330314e+00   5.96215297e+00\n",
        "   7.96599819e+00   1.00434126e+01]\n",
        "Distance: \n",
        "[-0.02115945  0.10196574  0.02617901  0.01621898  0.09995524  0.0991651\n",
        " -0.09053205 -0.07874402 -0.10122275 -0.07213094  0.0276789  -0.10130855\n",
        "  0.05366212  0.03339783  0.05010435 -0.00600954 -0.05622104  0.1010668\n",
        "  0.0968745  -0.1017587  -0.03640261  0.08178865  0.10063107 -0.0401603\n",
        "  0.00254638  0.07979037  0.09569558  0.02353626 -0.03463827  0.02333557\n",
        " -0.09908744 -0.05147852 -0.03509873  0.06439559  0.08639108 -0.10002245\n",
        " -0.09978446  0.02882748  0.09669686  0.03784703  0.03400181 -0.04341258]\n",
        "Empirical Risk: \n",
        "0.0626410649691\n"
       ]
      }
     ],
     "prompt_number": 7
    },
    {
     "cell_type": "code",
     "collapsed": false,
     "input": [
      "#Plot data\n",
      "from mpl_toolkits.mplot3d.axes3d import Axes3D\n",
      "import matplotlib.pyplot as plt\n",
      "import numpy\n",
      "from pylab import *\n",
      "\n",
      "fig = plt.figure()\n",
      "ax = fig.add_subplot(1,1,1, projection='3d')\n",
      "Z = samples\n",
      "ax.scatter(pans,tilts,Z,c='r')\n",
      "\n",
      "fig.hold(True)\n",
      "nPoints = 100\n",
      "pan_test = linspace(-80,10,nPoints)\n",
      "tilt_test = linspace(-70,-10,nPoints)\n",
      "Z_test = [];\n",
      "for pan in pan_test:\n",
      "    for tilt in tilt_test:\n",
      "        Z_test.append(model.predict([pan,tilt]))\n",
      "        \n",
      "X,Y = meshgrid(pan_test,tilt_test)\n",
      "Z = numpy.reshape(Z_test,X.shape)\n",
      "Z = Z.T\n",
      "#ax.plot_surface(X,Y,Z)\n",
      "ax.plot_wireframe(X,Y,Z,rstride=4, cstride=4)\n",
      "ax.set_xlabel('pan')\n",
      "ax.set_ylabel('tilt')\n",
      "plt.show()\n",
      "fig.hold(False)"
     ],
     "language": "python",
     "metadata": {},
     "outputs": [],
     "prompt_number": 8
    }
   ],
   "metadata": {}
  }
 ]
}